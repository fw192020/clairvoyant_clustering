{
 "cells": [
  {
   "cell_type": "markdown",
   "metadata": {},
   "source": [
    "# CorEx (Correlation Explanation) for Topic Modeling\n",
    "- [CorEx reference](https://github.com/gregversteeg/corex_topic/blob/master/corextopic/example/corex_topic_example.ipynb)\n",
    "- unsupervised and semi-supervised topic modeling"
   ]
  },
  {
   "cell_type": "code",
   "execution_count": null,
   "metadata": {},
   "outputs": [],
   "source": [
    "# # Install CorEx \n",
    "# !pip install corextopic\n",
    "# !pip install networkx"
   ]
  },
  {
   "cell_type": "code",
   "execution_count": 3,
   "metadata": {},
   "outputs": [],
   "source": [
    "import pandas as pd\n",
    "import numpy as np\n",
    "import pickle\n",
    "\n",
    "from sklearn.feature_extraction.text import CountVectorizer\n",
    "\n",
    "from corextopic import corextopic as ct\n",
    "from corextopic import vis_topic as vt\n",
    "\n",
    "import matplotlib.pyplot as plt\n",
    "import seaborn as sns\n",
    "%matplotlib inline"
   ]
  },
  {
   "cell_type": "code",
   "execution_count": 1,
   "metadata": {},
   "outputs": [
    {
     "data": {
      "text/html": [
       "<style>.container { width:95% !important; }</style>"
      ],
      "text/plain": [
       "<IPython.core.display.HTML object>"
      ]
     },
     "metadata": {},
     "output_type": "display_data"
    }
   ],
   "source": [
    "# Make better use of Jupyter Notebook cell width\n",
    "from IPython.core.display import display, HTML\n",
    "display(HTML(\"<style>.container { width:95% !important; }</style>\"))"
   ]
  },
  {
   "cell_type": "markdown",
   "metadata": {},
   "source": [
    "## CorEx Topic Model\n",
    "\n",
    "The CorEx topic model provides topic words which are those with the highest *mutual information* with the topic (rather than those with highest probability within the topic as with LDA). \n",
    "\n",
    "The main parameters of the CorEx topic model are:\n",
    "- n_hidden: number of topics (\"hidden\" latent topics)\n",
    "- words: words that label the columns of the doc-word matrix (optional)\n",
    "- docs: document labels that label the rows of the doc-word matrix (optional)\n",
    "- max_iter: number of iterations to run through the update equations (optional; defaults to 200)\n",
    "- verbose: if verbose=1, CorEx will print the topic Total Correlation (TC) with each iteration\n",
    "- seed: random number seed to use for model initialization (optional)"
   ]
  },
  {
   "cell_type": "markdown",
   "metadata": {},
   "source": [
    "## Total Correlation Measures\n",
    "Overall Total Correlation (OTC) is the measure which CorEx maximizes when constructing the topic model. OTC is a sum of the Total Correlation (TC) *per each topic*; reported in nats.\n",
    "\n",
    "For an unsupervised CorEx topic model, the topics are sorted from high to low according to their TC.  \n",
    "For an anchored CorEx topic model, the topics are not sorted; they are outputted with the anchored topics appearing first. "
   ]
  },
  {
   "cell_type": "markdown",
   "metadata": {},
   "source": [
    "## Semi-Supervised CorEx Topic Model: Anchoring\n",
    "Anchoring provides a way to guide the topic model towards specific subsets of words to explore\n",
    "\n",
    "There are many way to anchor, including:\n",
    "- anchor a single word to a single topic\n",
    "- anchor multiple group of words to multiple topics\n",
    "- anchor with single words AND groups of words\n",
    "\n",
    "Anchor strength: controls how much weight CorEx puts towards maximizing the mutual information between anchor words and their respective topics. Should always be greater than 1. Empirically, setting anchor strength between 1.5-3 appears to nudge the topic model towards the anchor words. Anchor strength greater than 5 strongly enforces that the CorEx topic model find a topic associated with the anchor words."
   ]
  },
  {
   "cell_type": "markdown",
   "metadata": {},
   "source": [
    "## Functions"
   ]
  },
  {
   "cell_type": "code",
   "execution_count": 1,
   "metadata": {},
   "outputs": [],
   "source": [
    "def unsupervised_topic_modeling(num_topics, column_labels, seed_num, doc_word_matrix):\n",
    "    '''\n",
    "    Function that uses CorEx to train a topic model and generate the number of topics indicated by num_topics.  \n",
    "    \n",
    "    Prints 1) the Overall Total Correlation (OTC) measure and 2) all the topics. \n",
    "    \n",
    "    Returns the topic model.  \n",
    "    '''\n",
    "    \n",
    "    # train model \n",
    "    topic_model = ct.Corex(n_hidden=num_topics, words=column_labels, seed=seed_num)\n",
    "    topic_model.fit(doc_word_matrix, words=column_labels)\n",
    "    \n",
    "    # the measure which CorEx maximizes when constructing the topic model; reported in nats\n",
    "    print(f'Overall Total Correlation: {topic_model.tc.round(3)}')\n",
    "    \n",
    "    # print all topics from CorEx topic model\n",
    "    topics = topic_model.get_topics()\n",
    "    for n, topic in enumerate(topics):\n",
    "        topic_words,_ = zip(*topic)\n",
    "        print('{}: '.format(n) + ','.join(topic_words))\n",
    "    \n",
    "    return topic_model"
   ]
  },
  {
   "cell_type": "code",
   "execution_count": 9,
   "metadata": {},
   "outputs": [],
   "source": [
    "def topic_tc_chart(topic_model):\n",
    "    '''\n",
    "    Outputs bar chart to visualize the topic Total Correlations (TC).\n",
    "    '''\n",
    "    plt.figure(figsize=(10,5))\n",
    "    x_positions = range(topic_model.tcs.shape[0]) # number of topics\n",
    "    bar_labels = range(topic_model.tcs.shape[0]) \n",
    "    plt.bar(x_positions, topic_model.tcs, width=0.5)  \n",
    "    plt.xticks(x_positions, bar_labels)\n",
    "    plt.xlabel('Topic', fontsize=16)\n",
    "    plt.ylabel('Total Correlation (nats)', fontsize=16);"
   ]
  },
  {
   "cell_type": "code",
   "execution_count": 2,
   "metadata": {},
   "outputs": [],
   "source": [
    "def anchored_topic_modeling(num_topics, column_labels, seed_num, doc_word_matrix, anchor_words, anchor_strength=6):\n",
    "    '''\n",
    "    Function that uses CorEx to train an anchored topic model and generate the number of topics indicated by num_topics.\n",
    "    \n",
    "    Input must include one or more anchor word in list format (list of lists if more than one anchored topic). \n",
    "    \n",
    "    Prints 1) the Overall Total Correlation (OTC) measure and 2) all the topics. \n",
    "    \n",
    "    Returns the anchored topic model.  \n",
    "    '''\n",
    "    \n",
    "    # train model \n",
    "    anchored_topic_model = ct.Corex(n_hidden=num_topics, words=column_labels, seed=seed_num)\n",
    "    anchored_topic_model.fit(doc_word_matrix, words=column_labels, anchors=anchor_words, anchor_strength=anchor_strength)\n",
    "    \n",
    "    # the measure which CorEx maximizes when constructing the topic model; reported in nats\n",
    "    print(f'Overall Total Correlation: {anchored_topic_model.tc.round(3)}')\n",
    "    \n",
    "    # print all topics from CorEx topic model\n",
    "    topics = anchored_topic_model.get_topics()\n",
    "    for n, topic in enumerate(topics):\n",
    "        topic_words,_ = zip(*topic)\n",
    "        print('{}: '.format(n) + ','.join(topic_words))\n",
    "    \n",
    "    return anchored_topic_model"
   ]
  },
  {
   "cell_type": "markdown",
   "metadata": {},
   "source": [
    "## Load data"
   ]
  },
  {
   "cell_type": "code",
   "execution_count": 4,
   "metadata": {},
   "outputs": [
    {
     "data": {
      "text/html": [
       "<div>\n",
       "<style scoped>\n",
       "    .dataframe tbody tr th:only-of-type {\n",
       "        vertical-align: middle;\n",
       "    }\n",
       "\n",
       "    .dataframe tbody tr th {\n",
       "        vertical-align: top;\n",
       "    }\n",
       "\n",
       "    .dataframe thead th {\n",
       "        text-align: right;\n",
       "    }\n",
       "</style>\n",
       "<table border=\"1\" class=\"dataframe\">\n",
       "  <thead>\n",
       "    <tr style=\"text-align: right;\">\n",
       "      <th></th>\n",
       "      <th>spacy_doc</th>\n",
       "      <th>Company</th>\n",
       "      <th>Issue</th>\n",
       "      <th>clean_spacy_doc2</th>\n",
       "    </tr>\n",
       "  </thead>\n",
       "  <tbody>\n",
       "    <tr>\n",
       "      <th>0</th>\n",
       "      <td>(I, received, an, alert, from,   , on,  , abou...</td>\n",
       "      <td>TRANSUNION INTERMEDIATE HOLDINGS, INC.</td>\n",
       "      <td>Attempts to collect debt not owed</td>\n",
       "      <td>receive alert      collections account credito...</td>\n",
       "    </tr>\n",
       "    <tr>\n",
       "      <th>1</th>\n",
       "      <td>(See, uploaded, document, dated,  , ;, CHASE, ...</td>\n",
       "      <td>JPMORGAN CHASE &amp; CO.</td>\n",
       "      <td>Took or threatened to take negative or legal a...</td>\n",
       "      <td>uploaded document date   chase bank unlawfully...</td>\n",
       "    </tr>\n",
       "    <tr>\n",
       "      <th>2</th>\n",
       "      <td>(On,  , I, pulled, my, credit, report, and, sa...</td>\n",
       "      <td>Monterey Financial Services LLC</td>\n",
       "      <td>Written notification about debt</td>\n",
       "      <td>pull credit report see monterey financial se...</td>\n",
       "    </tr>\n",
       "    <tr>\n",
       "      <th>3</th>\n",
       "      <td>(My,  , (,  , ), Account, number, for, Interne...</td>\n",
       "      <td>AFNI INC.</td>\n",
       "      <td>Written notification about debt</td>\n",
       "      <td>account number internet service pay outsta...</td>\n",
       "    </tr>\n",
       "    <tr>\n",
       "      <th>4</th>\n",
       "      <td>(AMCOL, Systems, (, a, debt, collector, ), rep...</td>\n",
       "      <td>AMCOL Systems, Inc.</td>\n",
       "      <td>Took or threatened to take negative or legal a...</td>\n",
       "      <td>amcol systems debt collector report debt credi...</td>\n",
       "    </tr>\n",
       "  </tbody>\n",
       "</table>\n",
       "</div>"
      ],
      "text/plain": [
       "                                           spacy_doc  \\\n",
       "0  (I, received, an, alert, from,   , on,  , abou...   \n",
       "1  (See, uploaded, document, dated,  , ;, CHASE, ...   \n",
       "2  (On,  , I, pulled, my, credit, report, and, sa...   \n",
       "3  (My,  , (,  , ), Account, number, for, Interne...   \n",
       "4  (AMCOL, Systems, (, a, debt, collector, ), rep...   \n",
       "\n",
       "                                  Company  \\\n",
       "0  TRANSUNION INTERMEDIATE HOLDINGS, INC.   \n",
       "1                    JPMORGAN CHASE & CO.   \n",
       "2         Monterey Financial Services LLC   \n",
       "3                               AFNI INC.   \n",
       "4                     AMCOL Systems, Inc.   \n",
       "\n",
       "                                               Issue  \\\n",
       "0                  Attempts to collect debt not owed   \n",
       "1  Took or threatened to take negative or legal a...   \n",
       "2                    Written notification about debt   \n",
       "3                    Written notification about debt   \n",
       "4  Took or threatened to take negative or legal a...   \n",
       "\n",
       "                                    clean_spacy_doc2  \n",
       "0  receive alert      collections account credito...  \n",
       "1  uploaded document date   chase bank unlawfully...  \n",
       "2    pull credit report see monterey financial se...  \n",
       "3      account number internet service pay outsta...  \n",
       "4  amcol systems debt collector report debt credi...  "
      ]
     },
     "execution_count": 4,
     "metadata": {},
     "output_type": "execute_result"
    }
   ],
   "source": [
    "# will take 1-2 minutes to load pickle\n",
    "df_spacy_debt = pd.read_pickle('df_clean_spacy_debt.pkl')\n",
    "df_spacy_debt.head()"
   ]
  },
  {
   "cell_type": "markdown",
   "metadata": {},
   "source": [
    "## CountVectorizer\n",
    "- the topic model assumes input is in the form of a doc-word matrix (rows are documents; columns are binary counts)\n",
    "- vectorize data (unigrams and bi-grams) and take top 20,000 grams\n",
    "- note: CorEx topic model uses **binary count vectors** as input"
   ]
  },
  {
   "cell_type": "code",
   "execution_count": 5,
   "metadata": {},
   "outputs": [
    {
     "data": {
      "text/plain": [
       "(18156, 20000)"
      ]
     },
     "execution_count": 5,
     "metadata": {},
     "output_type": "execute_result"
    }
   ],
   "source": [
    "cv = CountVectorizer(max_features=20000,\n",
    "                     ngram_range=(1,2),\n",
    "                     min_df=3, \n",
    "                     max_df=0.8,\n",
    "                     binary=True)\n",
    "\n",
    "doc_word = cv.fit_transform(df_spacy_debt['clean_spacy_doc2'])\n",
    "doc_word.shape # n_docs x m_words"
   ]
  },
  {
   "cell_type": "code",
   "execution_count": 6,
   "metadata": {},
   "outputs": [],
   "source": [
    "# get words that label the columns (needed to extract readable topics and make anchoring easier)\n",
    "words = list(np.asarray(cv.get_feature_names()))"
   ]
  },
  {
   "cell_type": "markdown",
   "metadata": {},
   "source": [
    "## Unsupervised CorEx Topic Model"
   ]
  },
  {
   "cell_type": "code",
   "execution_count": 22,
   "metadata": {},
   "outputs": [
    {
     "name": "stdout",
     "output_type": "stream",
     "text": [
      "Overall Total Correlation: 53.766\n",
      "0: shall,require,evidence,sec,defamation,title,obligation,report company,claim dispute,mark find\n",
      "1: standard information,sure quickly,present record,petition sure,right petition,figure display,precisely balance,credit figure,demand accordance,wrong sure\n",
      "2: federal,follow,law,creditor,party,provide follow,license,fdcpa,include,allege\n",
      "3: pay,payment,month,go,year,get,time,money,want,later\n",
      "4: fee,interest,charge,statement,email,offer,issue,balance,customer,able\n",
      "5: provide,validation,request,proof,signature,copy,verification,contract,validate,debt\n",
      "6: speak,ask,say,representative,contact,know,hang,explain,supervisor,give\n",
      "7: file,complaint,claim,action,notice,date,respond,day,office,agency\n",
      "8: act,fair,fair debt,reporting act,practices,practices act,collection practices,credit reporting,fair credit,reporting\n",
      "9: section,accordance,item,record,demand,cause,subsection,civil,fully,collection debt\n",
      "10: credit report,credit,report,credit bureau,bureau,report credit,remove,remove credit,dispute,collection\n",
      "11: phone,number,phone number,message,phone call,stop,harass,leave,answer,cell\n",
      "12: theft,identity theft,identity,victim identity,victim,theft report,theft debt,legal affidavit,belong identity,affidavit attach\n",
      "13: information,consumer,account,fcra,inaccurate,information credit,protection,reporting agency,matter,list\n",
      "14: letter,send,receive,receive letter,send letter,mail,state,response,letter send,address\n",
      "15: court,loan,sue,case,attorney,serve,garnish,wage,portfolio,recovery associates\n",
      "16: bill,medical,insurance,hospital,service,receive bill,medical bill,pay bill,insurance company,bill pay\n",
      "17: tell,call,work,week,start,hour,people,family,call tell,call time\n",
      "18: card,credit card,bank,social,social security,security,security number,bank account,card debt,card account\n",
      "19: collect,collect debt,attempt collect,try collect,attempt,cease,desist,cease desist,statute,limitation\n"
     ]
    },
    {
     "data": {
      "text/plain": [
       "<corextopic.corextopic.Corex at 0x25368c67d0>"
      ]
     },
     "execution_count": 22,
     "metadata": {},
     "output_type": "execute_result"
    }
   ],
   "source": [
    "topic_model = unsupervised_topic_modeling(20, words, 52, doc_word)\n",
    "topic_model"
   ]
  },
  {
   "cell_type": "code",
   "execution_count": 23,
   "metadata": {},
   "outputs": [
    {
     "data": {
      "image/png": "[encoded data removed]",
      "text/plain": [
       "<Figure size 720x360 with 1 Axes>"
      ]
     },
     "metadata": {
      "needs_background": "light"
     },
     "output_type": "display_data"
    }
   ],
   "source": [
    "topic_tc_chart(topic_model)"
   ]
  },
  {
   "cell_type": "markdown",
   "metadata": {},
   "source": [
    "## Anchored CorEx Topic Model 1"
   ]
  },
  {
   "cell_type": "code",
   "execution_count": 11,
   "metadata": {},
   "outputs": [
    {
     "name": "stdout",
     "output_type": "stream",
     "text": [
      "Overall Total Correlation: 67.445\n",
      "0: fdcpa,follow,provide follow,obligation,pursuant,defamation,pursuant fair,constitute,party,collection activity\n",
      "1: payment,late,late payment,payment plan,payment account,monthly,arrangement,monthly payment,payment arrangement,set\n",
      "2: balance,interest,pay balance,balance owe,account balance,interest rate,balance account,outstanding balance,interest fee,remain balance\n",
      "3: validation,verification,request,request validation,validation debt,debt validation,copy,validate,verification debt,validation request\n",
      "4: representative,supervisor,tell,speak,say,ask,explain,email,contact,customer\n",
      "5: credit report,report,credit,remove credit,remove,account credit,appear credit,report account,debt credit,collection credit\n",
      "6: harass,call,phone,number,phone number,phone call,work,message,time,stop\n",
      "7: identity theft,theft,identity,victim identity,victim,theft report,theft debt,belong identity,legal affidavit,affidavit attach\n",
      "8: medical,insurance,medical bill,bill,hospital,medical debt,insurance company,doctor,cover,provider\n",
      "9: people,family,pay,go,month,year,get,know,try,money\n",
      "10: limitation,statue,court,law,statute,action,attorney,legal,case,serve\n",
      "11: provide,claim,documentation,document,date,prove,immediately,note,agreement,concern\n",
      "12: accordance,record standard,petition sure,honor fair,sure quickly,precisely balance,demand accordance,item fully,credit figure,act fail\n",
      "13: letter,send,receive,mail,state,collection,send letter,receive letter,notice,address\n",
      "14: act,fair,fair credit,fair debt,reporting act,practices,violation,practices act,collection practices,credit reporting\n",
      "15: card,credit card,bank,social,social security,security,close,charge,fee,security number\n",
      "16: federal,shall,evidence,sec,title,receipt,include,general,telephone,respond\n",
      "17: bureau,credit bureau,original,dispute,original creditor,creditor,proof,delete,inaccurate,information credit\n",
      "18: file,complaint,information,consumer,account,matter,fraud,open,resolve,ftc\n",
      "19: collect,collect debt,debt,attempt collect,attempt,cease,try collect,desist,cease desist,debt collector\n"
     ]
    },
    {
     "data": {
      "text/plain": [
       "<corextopic.corextopic.Corex at 0x2536a1dbd0>"
      ]
     },
     "execution_count": 11,
     "metadata": {},
     "output_type": "execute_result"
    }
   ],
   "source": [
    "anchor_words = [['fdcpa'],['payment'],['interest','balance'],['validation','verification'],['representative','supervisor'],\n",
    "                ['credit report'],['harass'],['identity theft'],['medical'],['people','family'],['statue','limitation']]\n",
    "\n",
    "anchored_topic_model = anchored_topic_modeling(20, words, 52, doc_word, anchor_words)\n",
    "anchored_topic_model"
   ]
  },
  {
   "cell_type": "code",
   "execution_count": 12,
   "metadata": {},
   "outputs": [
    {
     "data": {
      "image/png": "[encoded data removed]",
      "text/plain": [
       "<Figure size 720x360 with 1 Axes>"
      ]
     },
     "metadata": {
      "needs_background": "light"
     },
     "output_type": "display_data"
    }
   ],
   "source": [
    "topic_tc_chart(anchored_topic_model)"
   ]
  },
  {
   "cell_type": "markdown",
   "metadata": {},
   "source": [
    "## Anchored CorEx Topic Model 2"
   ]
  },
  {
   "cell_type": "code",
   "execution_count": 13,
   "metadata": {},
   "outputs": [
    {
     "name": "stdout",
     "output_type": "stream",
     "text": [
      "Overall Total Correlation: 65.303\n",
      "0: fair credit,act,fair,fdcpa,reporting act,fair debt,practices act,practices,collection practices,accordance\n",
      "1: payment,late,late payment,payment plan,payment account,monthly,arrangement,monthly payment,payment arrangement,set\n",
      "2: interest rate,fee,charge,interest,statement,matter,resolve,transfer,purchase,case\n",
      "3: validation,verification,request validation,validation debt,debt validation,verification debt,validation request,validation letter,request verification,validate\n",
      "4: representative,supervisor,tell,speak,say,ask,explain,email,customer,give\n",
      "5: credit report,report,credit,remove credit,remove,account credit,appear credit,report account,debt credit,collection credit\n",
      "6: harass,call,phone,number,phone number,phone call,work,time,message,stop\n",
      "7: identity theft,theft,identity,victim identity,victim,theft report,theft debt,belong identity,legal affidavit,affidavit attach\n",
      "8: wage,garnish,court,loan,serve,garnishment,county,judgement,garnish wage,firm\n",
      "9: medical,insurance,medical bill,bill,hospital,medical debt,insurance company,doctor,cover,provider\n",
      "10: family,pay,go,month,year,get,try,know,help,want\n",
      "11: limitation,statue,federal,law,statute,action,claim,debt collection,obligation,party\n",
      "12: shall,evidence,sec,defamation,provide follow,title,claim dispute,report company,mark find,usc\n",
      "13: letter,send,receive,mail,state,receive letter,send letter,collection,notice,address\n",
      "14: provide,request,proof,signature,copy,contract,fcra,section,violation,original\n",
      "15: card,credit card,bank,close,score,social security,social,credit score,balance,security\n",
      "16: reasonable,general,consideration,reasonable procedure,request provide,collection debt,consumer reporting,connection,procedure,agency shall\n",
      "17: bureau,credit bureau,reporting,credit reporting,delete,reporting agency,portfolio,portfolio recovery,inaccurate,recovery\n",
      "18: open,account,file,information,complaint,fraud,police,police report,fraudulent,ftc\n",
      "19: collect,collect debt,debt,attempt collect,attempt,cease,debt collector,try collect,collector,desist\n"
     ]
    },
    {
     "data": {
      "text/plain": [
       "<corextopic.corextopic.Corex at 0x2539b5b5d0>"
      ]
     },
     "execution_count": 13,
     "metadata": {},
     "output_type": "execute_result"
    }
   ],
   "source": [
    "# subset of anchor words from anchor model 1 + new anchor words\n",
    "anchor_words_2 = [['fdcpa','fair credit'],['payment'],['interest rate'],['validation','verification'],\n",
    "                  ['representative','supervisor'],['credit report'],['harass'],['identity theft'],\n",
    "                  ['wage','garnish'],['medical'],['family'],['statue','limitation']]\n",
    "\n",
    "anchored_topic_model_2 = anchored_topic_modeling(20, words, 52, doc_word, anchor_words_2)\n",
    "anchored_topic_model_2"
   ]
  },
  {
   "cell_type": "code",
   "execution_count": 19,
   "metadata": {},
   "outputs": [
    {
     "data": {
      "image/png": "[encoded data removed]",
      "text/plain": [
       "<Figure size 720x360 with 1 Axes>"
      ]
     },
     "metadata": {
      "needs_background": "light"
     },
     "output_type": "display_data"
    }
   ],
   "source": [
    "topic_tc_chart(anchored_topic_model_2)"
   ]
  },
  {
   "cell_type": "markdown",
   "metadata": {},
   "source": [
    "## Doc-Topic Probability Matrix\n",
    "#### Estimated probability of topics for each document\n",
    "CorEx is a discriminative model (whereas LDA is a generative model). This means that while LDA puts out a probability distribution over each document, **CorEx instead estimates the probability a document belongs to a topic given that document's words.** As a result, the probabilities across topics for a given document do not have to add up to 1. The estimated probabilities of topics for each document can be accessed through ```p_y_given_x``` or ```log_p_y_given_x```. "
   ]
  },
  {
   "cell_type": "code",
   "execution_count": 20,
   "metadata": {},
   "outputs": [
    {
     "data": {
      "text/html": [
       "<div>\n",
       "<style scoped>\n",
       "    .dataframe tbody tr th:only-of-type {\n",
       "        vertical-align: middle;\n",
       "    }\n",
       "\n",
       "    .dataframe tbody tr th {\n",
       "        vertical-align: top;\n",
       "    }\n",
       "\n",
       "    .dataframe thead th {\n",
       "        text-align: right;\n",
       "    }\n",
       "</style>\n",
       "<table border=\"1\" class=\"dataframe\">\n",
       "  <thead>\n",
       "    <tr style=\"text-align: right;\">\n",
       "      <th></th>\n",
       "      <th>clean_spacy_doc2</th>\n",
       "      <th>Company</th>\n",
       "      <th>topic_0</th>\n",
       "      <th>topic_1</th>\n",
       "      <th>topic_2</th>\n",
       "      <th>topic_3</th>\n",
       "      <th>topic_4</th>\n",
       "      <th>topic_5</th>\n",
       "      <th>topic_6</th>\n",
       "      <th>topic_7</th>\n",
       "      <th>...</th>\n",
       "      <th>topic_10</th>\n",
       "      <th>topic_11</th>\n",
       "      <th>topic_12</th>\n",
       "      <th>topic_13</th>\n",
       "      <th>topic_14</th>\n",
       "      <th>topic_15</th>\n",
       "      <th>topic_16</th>\n",
       "      <th>topic_17</th>\n",
       "      <th>topic_18</th>\n",
       "      <th>topic_19</th>\n",
       "    </tr>\n",
       "  </thead>\n",
       "  <tbody>\n",
       "    <tr>\n",
       "      <th>0</th>\n",
       "      <td>receive alert      collections account credito...</td>\n",
       "      <td>TRANSUNION INTERMEDIATE HOLDINGS, INC.</td>\n",
       "      <td>0.000001</td>\n",
       "      <td>0.000001</td>\n",
       "      <td>0.000005</td>\n",
       "      <td>0.000001</td>\n",
       "      <td>0.000078</td>\n",
       "      <td>0.000001</td>\n",
       "      <td>0.000001</td>\n",
       "      <td>0.000001</td>\n",
       "      <td>...</td>\n",
       "      <td>0.001367</td>\n",
       "      <td>0.000001</td>\n",
       "      <td>0.000001</td>\n",
       "      <td>0.999999</td>\n",
       "      <td>0.000034</td>\n",
       "      <td>0.000257</td>\n",
       "      <td>0.000001</td>\n",
       "      <td>0.000952</td>\n",
       "      <td>0.008204</td>\n",
       "      <td>0.000997</td>\n",
       "    </tr>\n",
       "    <tr>\n",
       "      <th>1</th>\n",
       "      <td>uploaded document date   chase bank unlawfully...</td>\n",
       "      <td>JPMORGAN CHASE &amp; CO.</td>\n",
       "      <td>0.000001</td>\n",
       "      <td>0.000001</td>\n",
       "      <td>0.006443</td>\n",
       "      <td>0.000001</td>\n",
       "      <td>0.000001</td>\n",
       "      <td>0.000001</td>\n",
       "      <td>0.000001</td>\n",
       "      <td>0.000001</td>\n",
       "      <td>...</td>\n",
       "      <td>0.000001</td>\n",
       "      <td>0.001844</td>\n",
       "      <td>0.000001</td>\n",
       "      <td>0.000034</td>\n",
       "      <td>0.000012</td>\n",
       "      <td>0.999999</td>\n",
       "      <td>0.000001</td>\n",
       "      <td>0.000959</td>\n",
       "      <td>0.000066</td>\n",
       "      <td>0.000144</td>\n",
       "    </tr>\n",
       "    <tr>\n",
       "      <th>2</th>\n",
       "      <td>pull credit report see monterey financial se...</td>\n",
       "      <td>Monterey Financial Services LLC</td>\n",
       "      <td>0.000001</td>\n",
       "      <td>0.999999</td>\n",
       "      <td>0.000197</td>\n",
       "      <td>0.999999</td>\n",
       "      <td>0.999999</td>\n",
       "      <td>0.999999</td>\n",
       "      <td>0.000002</td>\n",
       "      <td>0.000001</td>\n",
       "      <td>...</td>\n",
       "      <td>0.000001</td>\n",
       "      <td>0.999811</td>\n",
       "      <td>0.999999</td>\n",
       "      <td>0.999999</td>\n",
       "      <td>0.999999</td>\n",
       "      <td>0.000244</td>\n",
       "      <td>0.000001</td>\n",
       "      <td>0.999999</td>\n",
       "      <td>0.080337</td>\n",
       "      <td>0.999999</td>\n",
       "    </tr>\n",
       "    <tr>\n",
       "      <th>3</th>\n",
       "      <td>account number internet service pay outsta...</td>\n",
       "      <td>AFNI INC.</td>\n",
       "      <td>0.000001</td>\n",
       "      <td>0.999999</td>\n",
       "      <td>0.999999</td>\n",
       "      <td>0.000001</td>\n",
       "      <td>0.999999</td>\n",
       "      <td>0.000001</td>\n",
       "      <td>0.999999</td>\n",
       "      <td>0.000001</td>\n",
       "      <td>...</td>\n",
       "      <td>0.999950</td>\n",
       "      <td>0.000004</td>\n",
       "      <td>0.000001</td>\n",
       "      <td>0.999999</td>\n",
       "      <td>0.999999</td>\n",
       "      <td>0.999999</td>\n",
       "      <td>0.000001</td>\n",
       "      <td>0.000974</td>\n",
       "      <td>0.001835</td>\n",
       "      <td>0.000787</td>\n",
       "    </tr>\n",
       "    <tr>\n",
       "      <th>4</th>\n",
       "      <td>amcol systems debt collector report debt credi...</td>\n",
       "      <td>AMCOL Systems, Inc.</td>\n",
       "      <td>0.000001</td>\n",
       "      <td>0.000001</td>\n",
       "      <td>0.000008</td>\n",
       "      <td>0.000001</td>\n",
       "      <td>0.000001</td>\n",
       "      <td>0.999999</td>\n",
       "      <td>0.000001</td>\n",
       "      <td>0.000001</td>\n",
       "      <td>...</td>\n",
       "      <td>0.000001</td>\n",
       "      <td>0.000001</td>\n",
       "      <td>0.000001</td>\n",
       "      <td>0.000002</td>\n",
       "      <td>0.000001</td>\n",
       "      <td>0.000001</td>\n",
       "      <td>0.000001</td>\n",
       "      <td>0.885088</td>\n",
       "      <td>0.002442</td>\n",
       "      <td>0.999993</td>\n",
       "    </tr>\n",
       "    <tr>\n",
       "      <th>...</th>\n",
       "      <td>...</td>\n",
       "      <td>...</td>\n",
       "      <td>...</td>\n",
       "      <td>...</td>\n",
       "      <td>...</td>\n",
       "      <td>...</td>\n",
       "      <td>...</td>\n",
       "      <td>...</td>\n",
       "      <td>...</td>\n",
       "      <td>...</td>\n",
       "      <td>...</td>\n",
       "      <td>...</td>\n",
       "      <td>...</td>\n",
       "      <td>...</td>\n",
       "      <td>...</td>\n",
       "      <td>...</td>\n",
       "      <td>...</td>\n",
       "      <td>...</td>\n",
       "      <td>...</td>\n",
       "      <td>...</td>\n",
       "      <td>...</td>\n",
       "    </tr>\n",
       "    <tr>\n",
       "      <th>18151</th>\n",
       "      <td>aware    company place bill collection time re...</td>\n",
       "      <td>The Receivable Management Services LLC</td>\n",
       "      <td>0.000001</td>\n",
       "      <td>0.000001</td>\n",
       "      <td>0.000004</td>\n",
       "      <td>0.000001</td>\n",
       "      <td>0.000001</td>\n",
       "      <td>0.000001</td>\n",
       "      <td>0.000001</td>\n",
       "      <td>0.000001</td>\n",
       "      <td>...</td>\n",
       "      <td>0.000011</td>\n",
       "      <td>0.000001</td>\n",
       "      <td>0.000001</td>\n",
       "      <td>0.006516</td>\n",
       "      <td>0.000001</td>\n",
       "      <td>0.003111</td>\n",
       "      <td>0.000001</td>\n",
       "      <td>0.001065</td>\n",
       "      <td>0.005064</td>\n",
       "      <td>0.000534</td>\n",
       "    </tr>\n",
       "    <tr>\n",
       "      <th>18152</th>\n",
       "      <td>lowe advantage card online lowes.com purchase ...</td>\n",
       "      <td>SYNCHRONY FINANCIAL</td>\n",
       "      <td>0.000001</td>\n",
       "      <td>0.000001</td>\n",
       "      <td>0.999999</td>\n",
       "      <td>0.000001</td>\n",
       "      <td>0.999999</td>\n",
       "      <td>0.000001</td>\n",
       "      <td>0.999999</td>\n",
       "      <td>0.000001</td>\n",
       "      <td>...</td>\n",
       "      <td>0.999999</td>\n",
       "      <td>0.000257</td>\n",
       "      <td>0.000001</td>\n",
       "      <td>0.999962</td>\n",
       "      <td>0.001525</td>\n",
       "      <td>0.999999</td>\n",
       "      <td>0.000001</td>\n",
       "      <td>0.000971</td>\n",
       "      <td>0.161970</td>\n",
       "      <td>0.000142</td>\n",
       "    </tr>\n",
       "    <tr>\n",
       "      <th>18153</th>\n",
       "      <td>pay    credit card get ready trip   travel  ...</td>\n",
       "      <td>Alliance Data Card Services</td>\n",
       "      <td>0.000001</td>\n",
       "      <td>0.999999</td>\n",
       "      <td>0.999999</td>\n",
       "      <td>0.000001</td>\n",
       "      <td>0.999999</td>\n",
       "      <td>0.000001</td>\n",
       "      <td>0.999999</td>\n",
       "      <td>0.000001</td>\n",
       "      <td>...</td>\n",
       "      <td>0.999999</td>\n",
       "      <td>0.000067</td>\n",
       "      <td>0.000001</td>\n",
       "      <td>0.999999</td>\n",
       "      <td>0.000001</td>\n",
       "      <td>0.999999</td>\n",
       "      <td>0.000001</td>\n",
       "      <td>0.999999</td>\n",
       "      <td>0.999996</td>\n",
       "      <td>0.005888</td>\n",
       "    </tr>\n",
       "    <tr>\n",
       "      <th>18154</th>\n",
       "      <td>sister call inform contact debt collector be...</td>\n",
       "      <td>WELLS FARGO &amp; COMPANY</td>\n",
       "      <td>0.000001</td>\n",
       "      <td>0.999999</td>\n",
       "      <td>0.999965</td>\n",
       "      <td>0.000001</td>\n",
       "      <td>0.000022</td>\n",
       "      <td>0.000001</td>\n",
       "      <td>0.748593</td>\n",
       "      <td>0.000001</td>\n",
       "      <td>...</td>\n",
       "      <td>0.000411</td>\n",
       "      <td>0.000001</td>\n",
       "      <td>0.000001</td>\n",
       "      <td>0.000386</td>\n",
       "      <td>0.000717</td>\n",
       "      <td>0.999999</td>\n",
       "      <td>0.000001</td>\n",
       "      <td>0.000971</td>\n",
       "      <td>0.901144</td>\n",
       "      <td>0.999999</td>\n",
       "    </tr>\n",
       "    <tr>\n",
       "      <th>18155</th>\n",
       "      <td>company keep flag credit report balance owe re...</td>\n",
       "      <td>National Credit Adjusters, LLC</td>\n",
       "      <td>0.000001</td>\n",
       "      <td>0.000001</td>\n",
       "      <td>0.001390</td>\n",
       "      <td>0.000001</td>\n",
       "      <td>0.000001</td>\n",
       "      <td>0.999999</td>\n",
       "      <td>0.000001</td>\n",
       "      <td>0.000001</td>\n",
       "      <td>...</td>\n",
       "      <td>0.000001</td>\n",
       "      <td>0.000001</td>\n",
       "      <td>0.000001</td>\n",
       "      <td>0.000004</td>\n",
       "      <td>0.000001</td>\n",
       "      <td>0.054458</td>\n",
       "      <td>0.000001</td>\n",
       "      <td>0.000960</td>\n",
       "      <td>0.000006</td>\n",
       "      <td>0.235152</td>\n",
       "    </tr>\n",
       "  </tbody>\n",
       "</table>\n",
       "<p>18156 rows × 22 columns</p>\n",
       "</div>"
      ],
      "text/plain": [
       "                                        clean_spacy_doc2  \\\n",
       "0      receive alert      collections account credito...   \n",
       "1      uploaded document date   chase bank unlawfully...   \n",
       "2        pull credit report see monterey financial se...   \n",
       "3          account number internet service pay outsta...   \n",
       "4      amcol systems debt collector report debt credi...   \n",
       "...                                                  ...   \n",
       "18151  aware    company place bill collection time re...   \n",
       "18152  lowe advantage card online lowes.com purchase ...   \n",
       "18153    pay    credit card get ready trip   travel  ...   \n",
       "18154    sister call inform contact debt collector be...   \n",
       "18155  company keep flag credit report balance owe re...   \n",
       "\n",
       "                                      Company   topic_0   topic_1   topic_2  \\\n",
       "0      TRANSUNION INTERMEDIATE HOLDINGS, INC.  0.000001  0.000001  0.000005   \n",
       "1                        JPMORGAN CHASE & CO.  0.000001  0.000001  0.006443   \n",
       "2             Monterey Financial Services LLC  0.000001  0.999999  0.000197   \n",
       "3                                   AFNI INC.  0.000001  0.999999  0.999999   \n",
       "4                         AMCOL Systems, Inc.  0.000001  0.000001  0.000008   \n",
       "...                                       ...       ...       ...       ...   \n",
       "18151  The Receivable Management Services LLC  0.000001  0.000001  0.000004   \n",
       "18152                     SYNCHRONY FINANCIAL  0.000001  0.000001  0.999999   \n",
       "18153             Alliance Data Card Services  0.000001  0.999999  0.999999   \n",
       "18154                   WELLS FARGO & COMPANY  0.000001  0.999999  0.999965   \n",
       "18155          National Credit Adjusters, LLC  0.000001  0.000001  0.001390   \n",
       "\n",
       "        topic_3   topic_4   topic_5   topic_6   topic_7  ...  topic_10  \\\n",
       "0      0.000001  0.000078  0.000001  0.000001  0.000001  ...  0.001367   \n",
       "1      0.000001  0.000001  0.000001  0.000001  0.000001  ...  0.000001   \n",
       "2      0.999999  0.999999  0.999999  0.000002  0.000001  ...  0.000001   \n",
       "3      0.000001  0.999999  0.000001  0.999999  0.000001  ...  0.999950   \n",
       "4      0.000001  0.000001  0.999999  0.000001  0.000001  ...  0.000001   \n",
       "...         ...       ...       ...       ...       ...  ...       ...   \n",
       "18151  0.000001  0.000001  0.000001  0.000001  0.000001  ...  0.000011   \n",
       "18152  0.000001  0.999999  0.000001  0.999999  0.000001  ...  0.999999   \n",
       "18153  0.000001  0.999999  0.000001  0.999999  0.000001  ...  0.999999   \n",
       "18154  0.000001  0.000022  0.000001  0.748593  0.000001  ...  0.000411   \n",
       "18155  0.000001  0.000001  0.999999  0.000001  0.000001  ...  0.000001   \n",
       "\n",
       "       topic_11  topic_12  topic_13  topic_14  topic_15  topic_16  topic_17  \\\n",
       "0      0.000001  0.000001  0.999999  0.000034  0.000257  0.000001  0.000952   \n",
       "1      0.001844  0.000001  0.000034  0.000012  0.999999  0.000001  0.000959   \n",
       "2      0.999811  0.999999  0.999999  0.999999  0.000244  0.000001  0.999999   \n",
       "3      0.000004  0.000001  0.999999  0.999999  0.999999  0.000001  0.000974   \n",
       "4      0.000001  0.000001  0.000002  0.000001  0.000001  0.000001  0.885088   \n",
       "...         ...       ...       ...       ...       ...       ...       ...   \n",
       "18151  0.000001  0.000001  0.006516  0.000001  0.003111  0.000001  0.001065   \n",
       "18152  0.000257  0.000001  0.999962  0.001525  0.999999  0.000001  0.000971   \n",
       "18153  0.000067  0.000001  0.999999  0.000001  0.999999  0.000001  0.999999   \n",
       "18154  0.000001  0.000001  0.000386  0.000717  0.999999  0.000001  0.000971   \n",
       "18155  0.000001  0.000001  0.000004  0.000001  0.054458  0.000001  0.000960   \n",
       "\n",
       "       topic_18  topic_19  \n",
       "0      0.008204  0.000997  \n",
       "1      0.000066  0.000144  \n",
       "2      0.080337  0.999999  \n",
       "3      0.001835  0.000787  \n",
       "4      0.002442  0.999993  \n",
       "...         ...       ...  \n",
       "18151  0.005064  0.000534  \n",
       "18152  0.161970  0.000142  \n",
       "18153  0.999996  0.005888  \n",
       "18154  0.901144  0.999999  \n",
       "18155  0.000006  0.235152  \n",
       "\n",
       "[18156 rows x 22 columns]"
      ]
     },
     "execution_count": 20,
     "metadata": {},
     "output_type": "execute_result"
    }
   ],
   "source": [
    "doc_top_prob = pd.DataFrame(anchored_topic_model_2.p_y_given_x, columns=[\"topic_{}\".format(i) for i in range(20)])\n",
    "\n",
    "doc_top_prob.index = df_spacy_debt.index\n",
    "\n",
    "doc_top_prob = pd.concat([df_spacy_debt['clean_spacy_doc2'], df_spacy_debt['Company'], doc_top_prob], axis=1)\n",
    "doc_top_prob"
   ]
  },
  {
   "cell_type": "code",
   "execution_count": 21,
   "metadata": {},
   "outputs": [
    {
     "name": "stdout",
     "output_type": "stream",
     "text": [
      "NOTE: 'docs' not provided to CorEx. Returning top docs as lists of row indices\n"
     ]
    },
    {
     "data": {
      "text/plain": [
       "[(8970, 0.0),\n",
       " (15569, 0.0),\n",
       " (4182, 0.0),\n",
       " (11906, 0.0),\n",
       " (15597, 0.0),\n",
       " (4148, 0.0),\n",
       " (4140, 0.0),\n",
       " (11895, 0.0),\n",
       " (4119, 0.0),\n",
       " (4118, 0.0)]"
      ]
     },
     "execution_count": 21,
     "metadata": {},
     "output_type": "execute_result"
    }
   ],
   "source": [
    "anchored_topic_model_2.get_top_docs(topic=8, n_docs=10)"
   ]
  },
  {
   "cell_type": "code",
   "execution_count": 23,
   "metadata": {},
   "outputs": [
    {
     "data": {
      "text/plain": [
       "'look night usps inform delivery horribly relevant letter date informed delivery email state receive letter know law firm hold letter attempt time respond law firm shady shady shady receive letter assume heavy usps mail activity   time technically   respond respond time frame say law firm file court case   day date letter actually receive letter law letter require -day response letter state unfortunately cancel illegal court case shady    follow law file give required law   days respond longer shady law firm     send attorney court hearing   day choice throw case love attorney think law clearly law degree    mention cfpb complaint happy pay client interest attorney fees associate want fight court want follow law fine start pay month start believe balance like pay   interest attorney fee time stop pay account stop shady bit attorney start get monthly payment account serve court court case counter sue firm monetary damage time waste cfpb shut payday loan company charge horrible fee interest want complaint database permanently hoping like shut eventually usuery'"
      ]
     },
     "execution_count": 23,
     "metadata": {},
     "output_type": "execute_result"
    }
   ],
   "source": [
    "doc_top_prob['clean_spacy_doc2'].iloc[8970]"
   ]
  },
  {
   "cell_type": "code",
   "execution_count": null,
   "metadata": {},
   "outputs": [],
   "source": []
  }
 ],
 "metadata": {
  "kernelspec": {
   "display_name": "Python [conda env:metis] *",
   "language": "python",
   "name": "conda-env-metis-py"
  },
  "language_info": {
   "codemirror_mode": {
    "name": "ipython",
    "version": 3
   },
   "file_extension": ".py",
   "mimetype": "text/x-python",
   "name": "python",
   "nbconvert_exporter": "python",
   "pygments_lexer": "ipython3",
   "version": "3.7.4"
  }
 },
 "nbformat": 4,
 "nbformat_minor": 4
}
