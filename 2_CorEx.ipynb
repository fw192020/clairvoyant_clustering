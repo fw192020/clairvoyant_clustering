{
 "cells": [
  {
   "cell_type": "markdown",
   "metadata": {},
   "source": [
    "# CorEx (Correlation Explanation) for Topic Modeling\n",
    "- [CorEx reference](https://github.com/gregversteeg/corex_topic/blob/master/corextopic/example/corex_topic_example.ipynb)\n",
    "- unsupervised and semi-supervised topic modeling"
   ]
  },
  {
   "cell_type": "code",
   "execution_count": null,
   "metadata": {},
   "outputs": [],
   "source": [
    "# # Install CorEx \n",
    "# !pip install corextopic\n",
    "# !pip install networkx"
   ]
  },
  {
   "cell_type": "code",
   "execution_count": 17,
   "metadata": {},
   "outputs": [],
   "source": [
    "import pandas as pd\n",
    "import numpy as np\n",
    "import pickle\n",
    "\n",
    "from sklearn.feature_extraction.text import CountVectorizer\n",
    "\n",
    "from corextopic import corextopic as ct\n",
    "from corextopic import vis_topic as vt\n",
    "\n",
    "import matplotlib.pyplot as plt\n",
    "import seaborn as sns\n",
    "%matplotlib inline"
   ]
  },
  {
   "cell_type": "code",
   "execution_count": 1,
   "metadata": {},
   "outputs": [
    {
     "data": {
      "text/html": [
       "<style>.container { width:95% !important; }</style>"
      ],
      "text/plain": [
       "<IPython.core.display.HTML object>"
      ]
     },
     "metadata": {},
     "output_type": "display_data"
    }
   ],
   "source": [
    "# Make better use of Jupyter Notebook cell width\n",
    "from IPython.core.display import display, HTML\n",
    "display(HTML(\"<style>.container { width:95% !important; }</style>\"))"
   ]
  },
  {
   "cell_type": "markdown",
   "metadata": {},
   "source": [
    "## Functions"
   ]
  },
  {
   "cell_type": "code",
   "execution_count": 20,
   "metadata": {},
   "outputs": [],
   "source": [
    "def topic_modeling(num_topics, column_labels, seed_num, doc_word_matrix,):\n",
    "    # train model\n",
    "    topic_model = ct.Corex(n_hidden=num_topics, words=column_labels, seed=seed_num)\n",
    "    topic_model.fit(doc_word_matrix, words=column_labels)\n",
    "    \n",
    "    # the measure which CorEx maximizes when constructing the topic model; reported in nats\n",
    "    print(f'Overall Total Correlation: {topic_model.tc.round(3)}')\n",
    "    \n",
    "    # print all topics from CorEx topic model\n",
    "    topics = topic_model.get_topics()\n",
    "    for n, topic in enumerate(topics):\n",
    "        topic_words,_ = zip(*topic)\n",
    "        print('{}: '.format(n) + ','.join(topic_words))\n",
    "    return topic_model"
   ]
  },
  {
   "cell_type": "code",
   "execution_count": 21,
   "metadata": {},
   "outputs": [],
   "source": [
    "def topic_tc_chart(topic_model):\n",
    "    plt.figure(figsize=(10,5))\n",
    "    x_positions = range(topic_model.tcs.shape[0])  # number of topics\n",
    "    bar_labels = range(topic_model.tcs.shape[0]) \n",
    "    plt.bar(x_positions, topic_model.tcs, width=0.5)  \n",
    "    plt.xticks(x_positions, bar_labels)\n",
    "    plt.xlabel('Topic', fontsize=16)\n",
    "    plt.ylabel('Total Correlation (nats)', fontsize=16);"
   ]
  },
  {
   "cell_type": "markdown",
   "metadata": {},
   "source": [
    "## Load data"
   ]
  },
  {
   "cell_type": "code",
   "execution_count": 4,
   "metadata": {},
   "outputs": [],
   "source": [
    "# will take 1-2 minutes to load pickle\n",
    "df_spacy_debt = pd.read_pickle('df_clean_spacy_debt.pkl')\n",
    "df_spacy_debt.head()"
   ]
  },
  {
   "cell_type": "markdown",
   "metadata": {},
   "source": [
    "## CountVectorizer\n",
    "- the topic model assumes input is in the form of a doc-word matrix (rows are documents; columns are binary counts)\n",
    "- vectorize data (unigrams and bi-grams) and take top 20,000 grams\n",
    "- note: CorEx topic model uses **binary count vectors** as input"
   ]
  },
  {
   "cell_type": "code",
   "execution_count": 10,
   "metadata": {},
   "outputs": [
    {
     "data": {
      "text/plain": [
       "(18156, 20000)"
      ]
     },
     "execution_count": 10,
     "metadata": {},
     "output_type": "execute_result"
    }
   ],
   "source": [
    "cv = CountVectorizer(max_features=20000,\n",
    "                     ngram_range=(1,2),\n",
    "                     min_df=3, \n",
    "                     max_df=0.8,\n",
    "                     binary=True)\n",
    "\n",
    "doc_word = cv.fit_transform(df_spacy_debt['clean_spacy_doc2'])\n",
    "doc_word.shape # n_docs x m_words"
   ]
  },
  {
   "cell_type": "code",
   "execution_count": 11,
   "metadata": {},
   "outputs": [],
   "source": [
    "# get words that label the columns (needed to extract readable topics and make anchoring easier)\n",
    "words = list(np.asarray(cv.get_feature_names()))"
   ]
  },
  {
   "cell_type": "markdown",
   "metadata": {},
   "source": [
    "## CorEx Topic Modeling"
   ]
  },
  {
   "cell_type": "code",
   "execution_count": 22,
   "metadata": {},
   "outputs": [
    {
     "name": "stdout",
     "output_type": "stream",
     "text": [
      "Overall Total Correlation: 53.766\n",
      "0: shall,require,evidence,sec,defamation,title,obligation,report company,claim dispute,mark find\n",
      "1: standard information,sure quickly,present record,petition sure,right petition,figure display,precisely balance,credit figure,demand accordance,wrong sure\n",
      "2: federal,follow,law,creditor,party,provide follow,license,fdcpa,include,allege\n",
      "3: pay,payment,month,go,year,get,time,money,want,later\n",
      "4: fee,interest,charge,statement,email,offer,issue,balance,customer,able\n",
      "5: provide,validation,request,proof,signature,copy,verification,contract,validate,debt\n",
      "6: speak,ask,say,representative,contact,know,hang,explain,supervisor,give\n",
      "7: file,complaint,claim,action,notice,date,respond,day,office,agency\n",
      "8: act,fair,fair debt,reporting act,practices,practices act,collection practices,credit reporting,fair credit,reporting\n",
      "9: section,accordance,item,record,demand,cause,subsection,civil,fully,collection debt\n",
      "10: credit report,credit,report,credit bureau,bureau,report credit,remove,remove credit,dispute,collection\n",
      "11: phone,number,phone number,message,phone call,stop,harass,leave,answer,cell\n",
      "12: theft,identity theft,identity,victim identity,victim,theft report,theft debt,legal affidavit,belong identity,affidavit attach\n",
      "13: information,consumer,account,fcra,inaccurate,information credit,protection,reporting agency,matter,list\n",
      "14: letter,send,receive,receive letter,send letter,mail,state,response,letter send,address\n",
      "15: court,loan,sue,case,attorney,serve,garnish,wage,portfolio,recovery associates\n",
      "16: bill,medical,insurance,hospital,service,receive bill,medical bill,pay bill,insurance company,bill pay\n",
      "17: tell,call,work,week,start,hour,people,family,call tell,call time\n",
      "18: card,credit card,bank,social,social security,security,security number,bank account,card debt,card account\n",
      "19: collect,collect debt,attempt collect,try collect,attempt,cease,desist,cease desist,statute,limitation\n"
     ]
    },
    {
     "data": {
      "text/plain": [
       "<corextopic.corextopic.Corex at 0x25368c67d0>"
      ]
     },
     "execution_count": 22,
     "metadata": {},
     "output_type": "execute_result"
    }
   ],
   "source": [
    "topic_model = topic_modeling(20, words, 52, doc_word)\n",
    "topic_model"
   ]
  },
  {
   "cell_type": "code",
   "execution_count": 23,
   "metadata": {},
   "outputs": [
    {
     "data": {
      "image/png": "[encoded data removed]",
      "text/plain": [
       "<Figure size 720x360 with 1 Axes>"
      ]
     },
     "metadata": {
      "needs_background": "light"
     },
     "output_type": "display_data"
    }
   ],
   "source": [
    "topic_tc_chart(topic_model)"
   ]
  },
  {
   "cell_type": "code",
   "execution_count": null,
   "metadata": {},
   "outputs": [],
   "source": []
  }
 ],
 "metadata": {
  "kernelspec": {
   "display_name": "Python [conda env:metis] *",
   "language": "python",
   "name": "conda-env-metis-py"
  },
  "language_info": {
   "codemirror_mode": {
    "name": "ipython",
    "version": 3
   },
   "file_extension": ".py",
   "mimetype": "text/x-python",
   "name": "python",
   "nbconvert_exporter": "python",
   "pygments_lexer": "ipython3",
   "version": "3.7.4"
  }
 },
 "nbformat": 4,
 "nbformat_minor": 4
}
